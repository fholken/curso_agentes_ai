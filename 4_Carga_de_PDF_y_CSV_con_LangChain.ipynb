{
  "nbformat": 4,
  "nbformat_minor": 0,
  "metadata": {
    "colab": {
      "provenance": [],
      "mount_file_id": "12pt_QtQ-ExNIEVTjZ49I5UCnP6m8HkbS",
      "authorship_tag": "ABX9TyP28SAI1E5H1Tapx0eOYIMw",
      "include_colab_link": true
    },
    "kernelspec": {
      "name": "python3",
      "display_name": "Python 3"
    },
    "language_info": {
      "name": "python"
    }
  },
  "cells": [
    {
      "cell_type": "markdown",
      "metadata": {
        "id": "view-in-github",
        "colab_type": "text"
      },
      "source": [
        "<a href=\"https://colab.research.google.com/github/fholken/curso_agentes_ai/blob/main/4_Carga_de_PDF_y_CSV_con_LangChain.ipynb\" target=\"_parent\"><img src=\"https://colab.research.google.com/assets/colab-badge.svg\" alt=\"Open In Colab\"/></a>"
      ]
    },
    {
      "cell_type": "code",
      "execution_count": 1,
      "metadata": {
        "colab": {
          "base_uri": "https://localhost:8080/"
        },
        "id": "ZAs8GnMpIxtx",
        "outputId": "72120dd1-73ab-41aa-9f93-5f12dbf1cdab"
      },
      "outputs": [
        {
          "name": "stdout",
          "output_type": "stream",
          "text": [
            "\u001b[2K   \u001b[90m━━━━━━━━━━━━━━━━━━━━━━━━━━━━━━━━━━━━━━━━\u001b[0m \u001b[32m50.4/50.4 kB\u001b[0m \u001b[31m1.8 MB/s\u001b[0m eta \u001b[36m0:00:00\u001b[0m\n",
            "\u001b[2K   \u001b[90m━━━━━━━━━━━━━━━━━━━━━━━━━━━━━━━━━━━━━━━━\u001b[0m \u001b[32m1.2/1.2 MB\u001b[0m \u001b[31m13.7 MB/s\u001b[0m eta \u001b[36m0:00:00\u001b[0m\n",
            "\u001b[?25h··········\n"
          ]
        }
      ],
      "source": [
        "%pip install -qU langchain-openai\n",
        "\n",
        "from langchain_openai import ChatOpenAI\n",
        "from  langchain_core.messages import HumanMessage, AIMessage\n",
        "from langchain_core.chat_history import BaseChatMessageHistory, InMemoryChatMessageHistory\n",
        "from langchain_core.runnables.history import RunnableWithMessageHistory\n",
        "from langchain_core.prompts import ChatPromptTemplate, MessagesPlaceholder\n",
        "import getpass\n",
        "import os\n",
        "\n",
        "os.environ[\"OPENAI_API_KEY\"] = getpass.getpass()\n",
        "model = ChatOpenAI(model=\"gpt-3.5-turbo\")"
      ]
    },
    {
      "cell_type": "markdown",
      "source": [
        "# **1. Document Loaders: Cargar Archivos en LangChain.**\n",
        "\n",
        "Los Document Loaders son herramientas especializadas en LangChain que permiten cargar información desde varios formatos de archivos, como PDF, CSV, Markdown, HTML, entre otros. Cada tipo de archivo tiene su propio loader específico que facilita la extracción de texto y metadatos.\n",
        "\n",
        "## **a) Carga de PDFs**\n",
        "\n",
        "Uno de los ejemplos más comunes es cargar y trabajar con **PDFs**. Para ello, utilizamos el paquete **PyPDF** dentro de LangChain.\n",
        "\n",
        "* **PyPDF** es un cargador de PDFs que te permite acceder al contenido y los metadatos del archivo, como el número de páginas, los títulos o cualquier otra información relevante.\n",
        "\n",
        "### **Pasos para cargar un PDF:**\n",
        "\n",
        "1. Instalar el paquete PyPDF y langchain-community.\n",
        "2. Utilizar el **PDF Loader** para cargar el archivo.\n",
        "3. Especificar la ruta del archivo PDF en tu entorno de trabajo (como Google Colaboratory).\n",
        "4. Extraer texto y metadatos para manipularlos o realizar consultas.\n",
        "\n",
        "## **b) Carga de CSVs**\n",
        "\n",
        "El **CSV Loader** en LangChain te permite cargar archivos CSV, donde cada fila se trata como un documento independiente. Este loader es especialmente útil cuando deseas analizar grandes volúmenes de datos estructurados.\n",
        "\n",
        "* **Uso del CSV Loader**: Puedes cargar un archivo CSV, acceder a cada fila y columna, y realizar consultas sobre el contenido. Además, puedes combinar esta funcionalidad con técnicas de **búsqueda semántica** para extraer información relevante.\n",
        "\n",
        "### **Pasos para cargar un CSV:**\n",
        "\n",
        "1. Utilizar el **CSV Loader** para cargar el archivo.\n",
        "2. Acceder a los datos fila por fila.\n",
        "3. Realizar consultas sobre las columnas y extraer información específica.\n",
        "\n",
        "# **2. Uso de Vector Stores**\n",
        "\n",
        "Una vez que cargas un archivo (ya sea PDF, CSV u otro), LangChain te permite realizar búsquedas más sofisticadas utilizando espacios vectoriales. Un **vector store** almacena información en forma de **vectores**, lo que facilita la **búsqueda por similitud**. Esta técnica es útil cuando queremos buscar información relacionada de manera semántica dentro de un documento o conjunto de documentos.\n",
        "\n",
        "## **a) Vectorización de Documentos**\n",
        "\n",
        "Para realizar una búsqueda semántica, necesitamos convertir el texto de los documentos en **vectores**. Esto se logra utilizando **Embeddings**, que son representaciones numéricas del texto. En este curso, hemos utilizado **OpenAI Embeddings**, que convierte el contenido textual en números que el sistema puede comparar.\n",
        "\n",
        "### Proceso de vectorización:\n",
        "\n",
        "1. Cargar el documento con un loader (como el PDF Loader).\n",
        "2. Convertir el texto a vectores utilizando Embeddings.\n",
        "3. Realizar búsquedas basadas en similitudes entre los vectores.\n",
        "\n",
        "## b) Búsqueda Semántica\n",
        "\n",
        "Una vez vectorizados los documentos, puedes realizar **búsquedas por similitud**, donde se busca la proximidad entre el texto de consulta y los documentos almacenados como vectores. Esto es extremadamente útil para encontrar respuestas relevantes en grandes volúmenes de información.\n",
        "\n",
        "**Ejemplo**: Si buscas un texto que incluya una frase específica, el sistema puede encontrar el contenido más cercano en significado y devolverlo como resultado.\n",
        "\n",
        "# **3. Integración de Agentes en Búsquedas de Datos**\n",
        "\n",
        "Uno de los aspectos más potentes de LangChain es su capacidad para integrar **agentes**. Un agente es una entidad que puede tomar decisiones autónomas basadas en entradas del usuario y consultar datos desde diversas fuentes.\n",
        "\n",
        "* **Uso en consultas de CSV**: Los agentes pueden transformar preguntas en lenguaje natural en consultas específicas sobre un archivo CSV, simplificando el acceso a los datos. Esto es útil en escenarios donde el usuario no necesita conocer la estructura de los datos, ya que el agente se encarga de traducir la consulta.\n",
        "\n",
        "# **4. Preparación para Bases Vectoriales**\n",
        "\n",
        "En las próximas clases, veremos con mayor profundidad cómo manejar **bases vectoriales**. Las bases vectoriales permiten organizar y consultar información de manera más eficiente, especialmente cuando trabajamos con grandes volúmenes de texto o datos no estructurados."
      ],
      "metadata": {
        "id": "86iuPZUoKK10"
      }
    },
    {
      "cell_type": "code",
      "source": [
        "%pip install -qU langchain_community pypdf\n",
        "%pip install -qU langchain_community\n",
        "%pip install -qU faiss-gpu"
      ],
      "metadata": {
        "colab": {
          "base_uri": "https://localhost:8080/"
        },
        "id": "rv-PlSDiM5Uv",
        "outputId": "d19daa24-08e9-4dcc-e6e0-9d939fa75bd5"
      },
      "execution_count": 2,
      "outputs": [
        {
          "output_type": "stream",
          "name": "stdout",
          "text": [
            "\u001b[?25l   \u001b[90m━━━━━━━━━━━━━━━━━━━━━━━━━━━━━━━━━━━━━━━━\u001b[0m \u001b[32m0.0/2.4 MB\u001b[0m \u001b[31m?\u001b[0m eta \u001b[36m-:--:--\u001b[0m\r\u001b[2K   \u001b[91m━━━━━━━━━━━━━━━━━━━━━━━━━━━━━━━━━━━━━━━\u001b[0m\u001b[91m╸\u001b[0m \u001b[32m2.4/2.4 MB\u001b[0m \u001b[31m142.3 MB/s\u001b[0m eta \u001b[36m0:00:01\u001b[0m\r\u001b[2K   \u001b[90m━━━━━━━━━━━━━━━━━━━━━━━━━━━━━━━━━━━━━━━━\u001b[0m \u001b[32m2.4/2.4 MB\u001b[0m \u001b[31m64.9 MB/s\u001b[0m eta \u001b[36m0:00:00\u001b[0m\n",
            "\u001b[2K   \u001b[90m━━━━━━━━━━━━━━━━━━━━━━━━━━━━━━━━━━━━━━━━\u001b[0m \u001b[32m298.0/298.0 kB\u001b[0m \u001b[31m21.1 MB/s\u001b[0m eta \u001b[36m0:00:00\u001b[0m\n",
            "\u001b[2K   \u001b[90m━━━━━━━━━━━━━━━━━━━━━━━━━━━━━━━━━━━━━━━━\u001b[0m \u001b[32m3.1/3.1 MB\u001b[0m \u001b[31m82.9 MB/s\u001b[0m eta \u001b[36m0:00:00\u001b[0m\n",
            "\u001b[2K   \u001b[90m━━━━━━━━━━━━━━━━━━━━━━━━━━━━━━━━━━━━━━━━\u001b[0m \u001b[32m49.5/49.5 kB\u001b[0m \u001b[31m4.0 MB/s\u001b[0m eta \u001b[36m0:00:00\u001b[0m\n",
            "\u001b[2K   \u001b[90m━━━━━━━━━━━━━━━━━━━━━━━━━━━━━━━━━━━━━━━━\u001b[0m \u001b[32m85.5/85.5 MB\u001b[0m \u001b[31m8.4 MB/s\u001b[0m eta \u001b[36m0:00:00\u001b[0m\n",
            "\u001b[?25h"
          ]
        }
      ]
    },
    {
      "cell_type": "code",
      "source": [
        "from langchain_community.document_loaders import PyPDFLoader\n",
        "\n",
        "file_path = (\"/content/drive/MyDrive/Colab Notebooks/curso agentes ai/lorem-ipsum_bb6070eb-ed4f-4dca-a255-09ce85625018.pdf\")\n",
        "loader = PyPDFLoader(file_path)\n",
        "pages = loader.load_and_split()\n",
        "\n",
        "pages[0]"
      ],
      "metadata": {
        "colab": {
          "base_uri": "https://localhost:8080/"
        },
        "id": "pKkY_TsKQckk",
        "outputId": "2cb57931-0973-44dd-d7c1-b9a05f67a011"
      },
      "execution_count": 3,
      "outputs": [
        {
          "output_type": "execute_result",
          "data": {
            "text/plain": [
              "Document(metadata={'source': '/content/drive/MyDrive/Colab Notebooks/curso agentes ai/lorem-ipsum_bb6070eb-ed4f-4dca-a255-09ce85625018.pdf', 'page': 0}, page_content='Test\\xa0document\\xa0PDF\\xa0\\n\\xa0\\nLorem\\xa0ipsum\\xa0dolor\\xa0sit\\xa0amet,\\xa0consectetur\\xa0adipiscing\\xa0elit.\\xa0Nulla\\xa0est\\xa0purus,\\xa0ultrices\\xa0in\\xa0porttitor\\xa0\\nin,\\xa0accumsan\\xa0non\\xa0quam.\\xa0Nam\\xa0consectetur\\xa0porttitor\\xa0rhoncus.\\xa0Curabitur\\xa0eu\\xa0est\\xa0et\\xa0leo\\xa0feugiat\\xa0\\nauctor\\xa0vel\\xa0quis\\xa0lorem.\\xa0Ut\\xa0et\\xa0ligula\\xa0dolor,\\xa0sit\\xa0amet\\xa0consequat\\xa0lorem.\\xa0Aliquam\\xa0porta\\xa0eros\\xa0sed\\xa0\\nvelit\\xa0imperdiet\\xa0egestas.\\xa0Maecenas\\xa0tempus\\xa0eros\\xa0ut\\xa0diam\\xa0ullamcorper\\xa0id\\xa0dictum\\xa0libero\\xa0\\ntempor.\\xa0Donec\\xa0quis\\xa0augue\\xa0quis\\xa0magna\\xa0condimentum\\xa0lobortis.\\xa0Quisque\\xa0imperdiet\\xa0ipsum\\xa0vel\\xa0\\nmagna\\xa0viverra\\xa0rutrum.\\xa0Cras\\xa0viverra\\xa0molestie\\xa0urna,\\xa0vitae\\xa0vestibulum\\xa0turpis\\xa0varius\\xa0id.\\xa0\\nVestibulum\\xa0mollis,\\xa0arcu\\xa0iaculis\\xa0bibendum\\xa0varius,\\xa0velit\\xa0sapien\\xa0blandit\\xa0metus,\\xa0ac\\xa0posuere\\xa0lorem\\xa0\\nnulla\\xa0ac\\xa0dolor.\\xa0Maecenas\\xa0urna\\xa0elit,\\xa0tincidunt\\xa0in\\xa0dapibus\\xa0nec,\\xa0vehicula\\xa0eu\\xa0dui.\\xa0Duis\\xa0lacinia\\xa0\\nfringilla\\xa0massa.\\xa0Cum\\xa0sociis\\xa0natoque\\xa0penatibus\\xa0et\\xa0magnis\\xa0dis\\xa0parturient\\xa0montes,\\xa0nascetur\\xa0\\nridiculus\\xa0mus.\\xa0Ut\\xa0consequat\\xa0ultricies\\xa0est,\\xa0non\\xa0rhoncus\\xa0mauris\\xa0congue\\xa0porta.\\xa0Vivamus\\xa0viverra\\xa0\\nsuscipit\\xa0felis\\xa0eget\\xa0condimentum.\\xa0Cum\\xa0sociis\\xa0natoque\\xa0penatibus\\xa0et\\xa0magnis\\xa0dis\\xa0parturient\\xa0\\nmontes,\\xa0nascetur\\xa0ridiculus\\xa0mus.\\xa0Integer\\xa0bibendum\\xa0sagittis\\xa0ligula,\\xa0non\\xa0faucibus\\xa0nulla\\xa0volutpat\\xa0\\nvitae.\\xa0Cum\\xa0sociis\\xa0natoque\\xa0penatibus\\xa0et\\xa0magnis\\xa0dis\\xa0parturient\\xa0montes,\\xa0nascetur\\xa0ridiculus\\xa0mus.\\xa0\\xa0\\nIn\\xa0aliquet\\xa0quam\\xa0et\\xa0velit\\xa0bibendum\\xa0accumsan.\\xa0Cum\\xa0sociis\\xa0natoque\\xa0penatibus\\xa0et\\xa0magnis\\xa0dis\\xa0\\nparturient\\xa0montes,\\xa0nascetur\\xa0ridiculus\\xa0mus.\\xa0Vestibulum\\xa0vitae\\xa0ipsum\\xa0nec\\xa0arcu\\xa0semper\\xa0\\nadipiscing\\xa0at\\xa0ac\\xa0lacus.\\xa0Praesent\\xa0id\\xa0pellentesque\\xa0orci.\\xa0Morbi\\xa0congue\\xa0viverra\\xa0nisl\\xa0nec\\xa0rhoncus.\\xa0\\nInteger\\xa0mattis,\\xa0ipsum\\xa0a\\xa0tincidunt\\xa0commodo,\\xa0lacus\\xa0arcu\\xa0elementum\\xa0elit,\\xa0at\\xa0mollis\\xa0eros\\xa0ante\\xa0ac\\xa0\\nrisus.\\xa0In\\xa0volutpat,\\xa0ante\\xa0at\\xa0pretium\\xa0ultricies,\\xa0velit\\xa0magna\\xa0suscipit\\xa0enim,\\xa0aliquet\\xa0blandit\\xa0massa\\xa0\\norci\\xa0nec\\xa0lorem.\\xa0Nulla\\xa0facilisi.\\xa0Duis\\xa0eu\\xa0vehicula\\xa0arcu.\\xa0Nulla\\xa0facilisi.\\xa0Maecenas\\xa0pellentesque\\xa0\\nvolutpat\\xa0felis,\\xa0quis\\xa0tristique\\xa0ligula\\xa0luctus\\xa0vel.\\xa0Sed\\xa0nec\\xa0mi\\xa0eros.\\xa0Integer\\xa0augue\\xa0enim,\\xa0sollicitudin\\xa0\\nullamcorper\\xa0mattis\\xa0eget,\\xa0aliquam\\xa0in\\xa0est.\\xa0Morbi\\xa0sollicitudin\\xa0libero\\xa0nec\\xa0augue\\xa0dignissim\\xa0ut\\xa0\\nconsectetur\\xa0dui\\xa0volutpat.\\xa0Nulla\\xa0facilisi.\\xa0Mauris\\xa0egestas\\xa0vestibulum\\xa0neque\\xa0cursus\\xa0tincidunt.\\xa0\\nDonec\\xa0sit\\xa0amet\\xa0pulvinar\\xa0orci.\\xa0\\xa0\\nQuisque\\xa0volutpat\\xa0pharetra\\xa0tincidunt.\\xa0Fusce\\xa0sapien\\xa0arcu,\\xa0molestie\\xa0eget\\xa0varius\\xa0egestas,\\xa0\\nfaucibus\\xa0ac\\xa0urna.\\xa0Sed\\xa0at\\xa0nisi\\xa0in\\xa0velit\\xa0egestas\\xa0aliquam\\xa0ut\\xa0a\\xa0felis.\\xa0Aenean\\xa0malesuada\\xa0iaculis\\xa0nisl,\\xa0\\nut\\xa0tempor\\xa0lacus\\xa0egestas\\xa0consequat.\\xa0Nam\\xa0nibh\\xa0lectus,\\xa0gravida\\xa0sed\\xa0egestas\\xa0ut,\\xa0feugiat\\xa0quis\\xa0\\ndolor.\\xa0Donec\\xa0eu\\xa0leo\\xa0enim,\\xa0non\\xa0laoreet\\xa0ante.\\xa0Morbi\\xa0dictum\\xa0tempor\\xa0vulputate.\\xa0Phasellus\\xa0\\nultricies\\xa0risus\\xa0vel\\xa0augue\\xa0sagittis\\xa0euismod.\\xa0Vivamus\\xa0tincidunt\\xa0placerat\\xa0nisi\\xa0in\\xa0aliquam.\\xa0Cras\\xa0\\nquis\\xa0mi\\xa0ac\\xa0nunc\\xa0pretium\\xa0aliquam.\\xa0Aenean\\xa0elementum\\xa0erat\\xa0ac\\xa0metus\\xa0commodo\\xa0rhoncus.\\xa0\\nAliquam\\xa0nulla\\xa0augue,\\xa0porta\\xa0non\\xa0sagittis\\xa0quis,\\xa0accumsan\\xa0vitae\\xa0sem.\\xa0Phasellus\\xa0id\\xa0lectus\\xa0tortor,\\xa0\\neget\\xa0pulvinar\\xa0augue.\\xa0Etiam\\xa0eget\\xa0velit\\xa0ac\\xa0purus\\xa0fringilla\\xa0blandit.\\xa0Donec\\xa0odio\\xa0odio,\\xa0sagittis\\xa0sed\\xa0\\niaculis\\xa0sed,\\xa0consectetur\\xa0eget\\xa0sem.\\xa0Lorem\\xa0ipsum\\xa0dolor\\xa0sit\\xa0amet,\\xa0consectetur\\xa0adipiscing\\xa0elit.\\xa0\\nMaecenas\\xa0accumsan\\xa0velit\\xa0vel\\xa0turpis\\xa0rutrum\\xa0in\\xa0sodales\\xa0diam\\xa0placerat.\\xa0\\xa0\\nQuisque\\xa0luctus\\xa0ullamcorper\\xa0velit\\xa0sit\\xa0amet\\xa0lobortis.\\xa0Etiam\\xa0ligula\\xa0felis,\\xa0vulputate\\xa0quis\\xa0rhoncus\\xa0\\nnec,\\xa0fermentum\\xa0eget\\xa0odio.\\xa0Vivamus\\xa0vel\\xa0ipsum\\xa0ac\\xa0augue\\xa0sodales\\xa0mollis\\xa0euismod\\xa0nec\\xa0tellus.\\xa0\\nFusce\\xa0et\\xa0augue\\xa0rutrum\\xa0nunc\\xa0semper\\xa0vehicula\\xa0vel\\xa0semper\\xa0nisl.\\xa0Nam\\xa0laoreet\\xa0euismod\\xa0quam\\xa0at\\xa0\\nvarius.\\xa0Sed\\xa0aliquet\\xa0auctor\\xa0nibh.\\xa0Curabitur\\xa0malesuada\\xa0fermentum\\xa0lacus\\xa0vel\\xa0accumsan.\\xa0Duis\\xa0\\nornare\\xa0scelerisque\\xa0nulla,\\xa0ac\\xa0pulvinar\\xa0ligula\\xa0tempus\\xa0sit\\xa0amet.\\xa0In\\xa0placerat\\xa0nulla\\xa0ac\\xa0ante\\xa0\\nscelerisque\\xa0posuere.\\xa0Phasellus\\xa0at\\xa0ante\\xa0felis.\\xa0Sed\\xa0hendrerit\\xa0risus\\xa0a\\xa0metus\\xa0posuere\\xa0rutrum.\\xa0\\nPhasellus\\xa0eu\\xa0augue\\xa0dui.\\xa0Proin\\xa0in\\xa0vestibulum\\xa0ipsum.\\xa0Aenean\\xa0accumsan\\xa0mollis\\xa0sapien,\\xa0ut\\xa0\\neleifend\\xa0sem\\xa0blandit\\xa0at.\\xa0Vivamus\\xa0luctus\\xa0mi\\xa0eget\\xa0lorem\\xa0lobortis\\xa0pharetra.\\xa0Phasellus\\xa0at\\xa0tortor\\xa0\\nquam,\\xa0a\\xa0volutpat\\xa0purus.\\xa0Etiam\\xa0sollicitudin\\xa0arcu\\xa0vel\\xa0elit\\xa0bibendum\\xa0et\\xa0imperdiet\\xa0risus\\xa0tincidunt.\\xa0\\nEtiam\\xa0elit\\xa0velit,\\xa0posuere\\xa0ut\\xa0pulvinar\\xa0ac,\\xa0condimentum\\xa0eget\\xa0justo.\\xa0Fusce\\xa0a\\xa0erat\\xa0velit.\\xa0Vivamus\\xa0\\nimperdiet\\xa0ultrices\\xa0orci\\xa0in\\xa0hendrerit.')"
            ]
          },
          "metadata": {},
          "execution_count": 3
        }
      ]
    },
    {
      "cell_type": "code",
      "source": [
        "from langchain_community.vectorstores import FAISS\n",
        "from langchain_community.embeddings.openai import OpenAIEmbeddings\n",
        "\n",
        "faiss_index = FAISS.from_documents(pages, OpenAIEmbeddings())\n",
        "docs = faiss_index.similarity_search(\"lorem ipsum\", k=2)\n",
        "\n",
        "for doc in docs:\n",
        "  print(str(doc.metadata[\"page\"]) + \":\", doc.page_content[:300])"
      ],
      "metadata": {
        "colab": {
          "base_uri": "https://localhost:8080/"
        },
        "id": "YHJKI0phR1s_",
        "outputId": "eacb6f99-aaea-40d4-f433-677bb6d5e387"
      },
      "execution_count": 5,
      "outputs": [
        {
          "output_type": "stream",
          "name": "stdout",
          "text": [
            "0: Test document PDF \n",
            " \n",
            "Lorem ipsum dolor sit amet, consectetur adipiscing elit. Nulla est purus, ultrices in porttitor \n",
            "in, accumsan non quam. Nam consectetur porttitor rhoncus. Curabitur eu est et leo feugiat \n",
            "auctor vel quis lorem. Ut et ligula dolor, sit amet consequat lorem. Aliquam porta eros sed\n"
          ]
        }
      ]
    },
    {
      "cell_type": "markdown",
      "source": [
        "# CVS\n"
      ],
      "metadata": {
        "id": "5jntDn_1zS_i"
      }
    },
    {
      "cell_type": "code",
      "source": [
        "from langchain_community.document_loaders import CSVLoader\n",
        "\n",
        "file_path_csv = (\"/content/drive/MyDrive/Colab Notebooks/curso agentes ai/pokemon.csv\")\n",
        "loader = CSVLoader(file_path_csv)\n",
        "data = loader.load()\n",
        "\n",
        "for record in data[:2]:\n",
        "  print(record)"
      ],
      "metadata": {
        "colab": {
          "base_uri": "https://localhost:8080/"
        },
        "id": "cR8NL-wrzViP",
        "outputId": "f89da8e7-9d65-4a26-db75-7c6a89b9e98a"
      },
      "execution_count": 8,
      "outputs": [
        {
          "output_type": "stream",
          "name": "stdout",
          "text": [
            "page_content='id: 1\n",
            "identifier: bulbasaur\n",
            "species_id: 1\n",
            "height: 7\n",
            "weight: 69\n",
            "base_experience: 64\n",
            "order: 1\n",
            "is_default: 1' metadata={'source': '/content/drive/MyDrive/Colab Notebooks/curso agentes ai/pokemon.csv', 'row': 0}\n",
            "page_content='id: 2\n",
            "identifier: ivysaur\n",
            "species_id: 2\n",
            "height: 10\n",
            "weight: 130\n",
            "base_experience: 142\n",
            "order: 2\n",
            "is_default: 1' metadata={'source': '/content/drive/MyDrive/Colab Notebooks/curso agentes ai/pokemon.csv', 'row': 1}\n"
          ]
        }
      ]
    }
  ]
}