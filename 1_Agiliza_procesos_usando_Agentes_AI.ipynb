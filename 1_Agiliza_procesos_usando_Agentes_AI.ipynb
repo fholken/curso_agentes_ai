{
  "nbformat": 4,
  "nbformat_minor": 0,
  "metadata": {
    "colab": {
      "provenance": [],
      "authorship_tag": "ABX9TyMZdcWfzvZEE7NfpvuZ/6+5",
      "include_colab_link": true
    },
    "kernelspec": {
      "name": "python3",
      "display_name": "Python 3"
    },
    "language_info": {
      "name": "python"
    }
  },
  "cells": [
    {
      "cell_type": "markdown",
      "metadata": {
        "id": "view-in-github",
        "colab_type": "text"
      },
      "source": [
        "<a href=\"https://colab.research.google.com/github/fholken/curso_agentes_ai/blob/main/1_Agiliza_procesos_usando_Agentes_AI.ipynb\" target=\"_parent\"><img src=\"https://colab.research.google.com/assets/colab-badge.svg\" alt=\"Open In Colab\"/></a>"
      ]
    },
    {
      "cell_type": "markdown",
      "source": [
        "El curso de Agentes AI se enfoca en la automatización de procesos a través de agentes inteligentes utilizando LangChain y Python. En la primera clase, se describe un escenario práctico: una pizzería que recibe múltiples consultas de clientes. Se destaca la importancia de los agentes AI para atender eficientemente estas interacciones, programar citas y enviar reportes. Se abordarán tres áreas clave: creación de agentes que integren APIs, construcción de cadenas personalizadas para optimizar procesos y sistemas de recuperación de información para mejorar la calidad de las respuestas. Además, aprenderás a configurar un entorno básico de LangChain y a conectar con OpenAI."
      ],
      "metadata": {
        "id": "hgsxnNxwhq3M"
      }
    },
    {
      "cell_type": "markdown",
      "source": [
        "# Conectar langchain con un LLM"
      ],
      "metadata": {
        "id": "veXTQn59i9DN"
      }
    },
    {
      "cell_type": "code",
      "execution_count": 1,
      "metadata": {
        "colab": {
          "base_uri": "https://localhost:8080/"
        },
        "id": "-ERLvacNhpX_",
        "outputId": "9daa8723-e336-43f3-828e-099c958b1e84"
      },
      "outputs": [
        {
          "name": "stdout",
          "output_type": "stream",
          "text": [
            "··········\n"
          ]
        }
      ],
      "source": [
        "import getpass\n",
        "import os\n",
        "\n",
        "os.environ[\"OPENAI_API_KEY\"] = getpass.getpass()"
      ]
    },
    {
      "cell_type": "markdown",
      "source": [
        "# Conexión con un LLM"
      ],
      "metadata": {
        "id": "O2ffK2TljCYL"
      }
    },
    {
      "cell_type": "code",
      "source": [
        "!pip install --q langchain langchain_openai"
      ],
      "metadata": {
        "colab": {
          "base_uri": "https://localhost:8080/"
        },
        "id": "nscBDUdqjFoI",
        "outputId": "307a9def-fe10-4767-e6e6-6a3e4c2dcfe2"
      },
      "execution_count": 2,
      "outputs": [
        {
          "output_type": "stream",
          "name": "stdout",
          "text": [
            "\u001b[?25l   \u001b[90m━━━━━━━━━━━━━━━━━━━━━━━━━━━━━━━━━━━━━━━━\u001b[0m \u001b[32m0.0/50.4 kB\u001b[0m \u001b[31m?\u001b[0m eta \u001b[36m-:--:--\u001b[0m\r\u001b[2K   \u001b[90m━━━━━━━━━━━━━━━━━━━━━━━━━━━━━━━━━━━━━━━━\u001b[0m \u001b[32m50.4/50.4 kB\u001b[0m \u001b[31m2.0 MB/s\u001b[0m eta \u001b[36m0:00:00\u001b[0m\n",
            "\u001b[?25h\u001b[?25l   \u001b[90m━━━━━━━━━━━━━━━━━━━━━━━━━━━━━━━━━━━━━━━━\u001b[0m \u001b[32m0.0/409.3 kB\u001b[0m \u001b[31m?\u001b[0m eta \u001b[36m-:--:--\u001b[0m\r\u001b[2K   \u001b[91m━━━━━━━━━━━━━━━━━━━━━━━━━━━━━━━━━━━━━━━\u001b[0m\u001b[90m╺\u001b[0m \u001b[32m399.4/409.3 kB\u001b[0m \u001b[31m20.9 MB/s\u001b[0m eta \u001b[36m0:00:01\u001b[0m\r\u001b[2K   \u001b[90m━━━━━━━━━━━━━━━━━━━━━━━━━━━━━━━━━━━━━━━━\u001b[0m \u001b[32m409.3/409.3 kB\u001b[0m \u001b[31m10.5 MB/s\u001b[0m eta \u001b[36m0:00:00\u001b[0m\n",
            "\u001b[?25h\u001b[?25l   \u001b[90m━━━━━━━━━━━━━━━━━━━━━━━━━━━━━━━━━━━━━━━━\u001b[0m \u001b[32m0.0/1.2 MB\u001b[0m \u001b[31m?\u001b[0m eta \u001b[36m-:--:--\u001b[0m\r\u001b[2K   \u001b[91m━━━━━━━━━━━━━━━━━━━━━━━━━━━━━━━━━━━━━━━\u001b[0m\u001b[91m╸\u001b[0m \u001b[32m1.2/1.2 MB\u001b[0m \u001b[31m70.3 MB/s\u001b[0m eta \u001b[36m0:00:01\u001b[0m\r\u001b[2K   \u001b[90m━━━━━━━━━━━━━━━━━━━━━━━━━━━━━━━━━━━━━━━━\u001b[0m \u001b[32m1.2/1.2 MB\u001b[0m \u001b[31m24.4 MB/s\u001b[0m eta \u001b[36m0:00:00\u001b[0m\n",
            "\u001b[?25h"
          ]
        }
      ]
    },
    {
      "cell_type": "code",
      "source": [
        "from langchain_openai import ChatOpenAI\n",
        "\n",
        "chat = ChatOpenAI(model=\"gpt-4o\")"
      ],
      "metadata": {
        "id": "aFHojlYajIIU"
      },
      "execution_count": 3,
      "outputs": []
    },
    {
      "cell_type": "code",
      "source": [
        "from langchain_core.messages import HumanMessage, SystemMessage\n",
        "\n",
        "question = '''Dame el nombre de la mejor plataforma de educación\n",
        "              tecnológica y empresarial en español de América\n",
        "              latina. Esta plataforma ofrece cursos\n",
        "              creados por expertos en cada área'''\n",
        "\n",
        "messages = [\n",
        "    SystemMessage(content=\"Usa emojis en la respuesta\"),\n",
        "    HumanMessage(content=question),\n",
        "]"
      ],
      "metadata": {
        "id": "y6cGUn2ujLeJ"
      },
      "execution_count": 4,
      "outputs": []
    },
    {
      "cell_type": "code",
      "source": [
        "print(chat.invoke(messages).content)"
      ],
      "metadata": {
        "colab": {
          "base_uri": "https://localhost:8080/"
        },
        "id": "k-TX0G7wjPHl",
        "outputId": "3c3dd953-6cd6-45c4-f52d-8b0a88bdc105"
      },
      "execution_count": 5,
      "outputs": [
        {
          "output_type": "stream",
          "name": "stdout",
          "text": [
            "Una de las plataformas más destacadas en educación tecnológica y empresarial en español en América Latina es **Platzi** 🚀. Ofrece una amplia variedad de cursos impartidos por expertos en cada área, abarcando temas desde programación hasta marketing y negocios. 📚💻\n"
          ]
        }
      ]
    }
  ]
}