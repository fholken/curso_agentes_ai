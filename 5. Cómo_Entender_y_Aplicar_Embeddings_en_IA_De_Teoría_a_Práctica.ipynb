{
  "nbformat": 4,
  "nbformat_minor": 0,
  "metadata": {
    "colab": {
      "provenance": [],
      "authorship_tag": "ABX9TyMx38557MprU6RSDE6CjXpN",
      "include_colab_link": true
    },
    "kernelspec": {
      "name": "python3",
      "display_name": "Python 3"
    },
    "language_info": {
      "name": "python"
    }
  },
  "cells": [
    {
      "cell_type": "markdown",
      "metadata": {
        "id": "view-in-github",
        "colab_type": "text"
      },
      "source": [
        "<a href=\"https://colab.research.google.com/github/fholken/curso_agentes_ai/blob/main/5.%20C%C3%B3mo_Entender_y_Aplicar_Embeddings_en_IA_De_Teor%C3%ADa_a_Pr%C3%A1ctica.ipynb\" target=\"_parent\"><img src=\"https://colab.research.google.com/assets/colab-badge.svg\" alt=\"Open In Colab\"/></a>"
      ]
    },
    {
      "cell_type": "markdown",
      "source": [
        "# ¿Que son los embedding?\n",
        "\n",
        "Lo embeddings son representaciones numericas en **n** dimensiones que permiten a los modelos de inteligencia artificial entender el lenguaje humano. Se utilizan para tareas como recomendación, busqueda semántica y traducción automática.\n",
        "# Comparar frases con un modelo de embedding"
      ],
      "metadata": {
        "id": "EGRJzBgLYqef"
      }
    },
    {
      "cell_type": "code",
      "execution_count": 1,
      "metadata": {
        "colab": {
          "base_uri": "https://localhost:8080/"
        },
        "id": "kGXfXVImYpLj",
        "outputId": "4f91fedf-813c-449c-895a-c3bbd9cb9dcf"
      },
      "outputs": [
        {
          "output_type": "stream",
          "name": "stdout",
          "text": [
            "Requirement already satisfied: sentence-transformers in /usr/local/lib/python3.10/dist-packages (3.2.1)\n",
            "Collecting sentence-transformers\n",
            "  Downloading sentence_transformers-3.3.0-py3-none-any.whl.metadata (10 kB)\n",
            "Requirement already satisfied: transformers<5.0.0,>=4.41.0 in /usr/local/lib/python3.10/dist-packages (from sentence-transformers) (4.46.2)\n",
            "Requirement already satisfied: tqdm in /usr/local/lib/python3.10/dist-packages (from sentence-transformers) (4.66.6)\n",
            "Requirement already satisfied: torch>=1.11.0 in /usr/local/lib/python3.10/dist-packages (from sentence-transformers) (2.5.1+cu121)\n",
            "Requirement already satisfied: scikit-learn in /usr/local/lib/python3.10/dist-packages (from sentence-transformers) (1.5.2)\n",
            "Requirement already satisfied: scipy in /usr/local/lib/python3.10/dist-packages (from sentence-transformers) (1.13.1)\n",
            "Requirement already satisfied: huggingface-hub>=0.20.0 in /usr/local/lib/python3.10/dist-packages (from sentence-transformers) (0.26.2)\n",
            "Requirement already satisfied: Pillow in /usr/local/lib/python3.10/dist-packages (from sentence-transformers) (11.0.0)\n",
            "Requirement already satisfied: filelock in /usr/local/lib/python3.10/dist-packages (from huggingface-hub>=0.20.0->sentence-transformers) (3.16.1)\n",
            "Requirement already satisfied: fsspec>=2023.5.0 in /usr/local/lib/python3.10/dist-packages (from huggingface-hub>=0.20.0->sentence-transformers) (2024.10.0)\n",
            "Requirement already satisfied: packaging>=20.9 in /usr/local/lib/python3.10/dist-packages (from huggingface-hub>=0.20.0->sentence-transformers) (24.2)\n",
            "Requirement already satisfied: pyyaml>=5.1 in /usr/local/lib/python3.10/dist-packages (from huggingface-hub>=0.20.0->sentence-transformers) (6.0.2)\n",
            "Requirement already satisfied: requests in /usr/local/lib/python3.10/dist-packages (from huggingface-hub>=0.20.0->sentence-transformers) (2.32.3)\n",
            "Requirement already satisfied: typing-extensions>=3.7.4.3 in /usr/local/lib/python3.10/dist-packages (from huggingface-hub>=0.20.0->sentence-transformers) (4.12.2)\n",
            "Requirement already satisfied: networkx in /usr/local/lib/python3.10/dist-packages (from torch>=1.11.0->sentence-transformers) (3.4.2)\n",
            "Requirement already satisfied: jinja2 in /usr/local/lib/python3.10/dist-packages (from torch>=1.11.0->sentence-transformers) (3.1.4)\n",
            "Requirement already satisfied: sympy==1.13.1 in /usr/local/lib/python3.10/dist-packages (from torch>=1.11.0->sentence-transformers) (1.13.1)\n",
            "Requirement already satisfied: mpmath<1.4,>=1.1.0 in /usr/local/lib/python3.10/dist-packages (from sympy==1.13.1->torch>=1.11.0->sentence-transformers) (1.3.0)\n",
            "Requirement already satisfied: numpy>=1.17 in /usr/local/lib/python3.10/dist-packages (from transformers<5.0.0,>=4.41.0->sentence-transformers) (1.26.4)\n",
            "Requirement already satisfied: regex!=2019.12.17 in /usr/local/lib/python3.10/dist-packages (from transformers<5.0.0,>=4.41.0->sentence-transformers) (2024.9.11)\n",
            "Requirement already satisfied: safetensors>=0.4.1 in /usr/local/lib/python3.10/dist-packages (from transformers<5.0.0,>=4.41.0->sentence-transformers) (0.4.5)\n",
            "Requirement already satisfied: tokenizers<0.21,>=0.20 in /usr/local/lib/python3.10/dist-packages (from transformers<5.0.0,>=4.41.0->sentence-transformers) (0.20.3)\n",
            "Requirement already satisfied: joblib>=1.2.0 in /usr/local/lib/python3.10/dist-packages (from scikit-learn->sentence-transformers) (1.4.2)\n",
            "Requirement already satisfied: threadpoolctl>=3.1.0 in /usr/local/lib/python3.10/dist-packages (from scikit-learn->sentence-transformers) (3.5.0)\n",
            "Requirement already satisfied: MarkupSafe>=2.0 in /usr/local/lib/python3.10/dist-packages (from jinja2->torch>=1.11.0->sentence-transformers) (3.0.2)\n",
            "Requirement already satisfied: charset-normalizer<4,>=2 in /usr/local/lib/python3.10/dist-packages (from requests->huggingface-hub>=0.20.0->sentence-transformers) (3.4.0)\n",
            "Requirement already satisfied: idna<4,>=2.5 in /usr/local/lib/python3.10/dist-packages (from requests->huggingface-hub>=0.20.0->sentence-transformers) (3.10)\n",
            "Requirement already satisfied: urllib3<3,>=1.21.1 in /usr/local/lib/python3.10/dist-packages (from requests->huggingface-hub>=0.20.0->sentence-transformers) (2.2.3)\n",
            "Requirement already satisfied: certifi>=2017.4.17 in /usr/local/lib/python3.10/dist-packages (from requests->huggingface-hub>=0.20.0->sentence-transformers) (2024.8.30)\n",
            "Downloading sentence_transformers-3.3.0-py3-none-any.whl (268 kB)\n",
            "\u001b[2K   \u001b[90m━━━━━━━━━━━━━━━━━━━━━━━━━━━━━━━━━━━━━━━━\u001b[0m \u001b[32m268.7/268.7 kB\u001b[0m \u001b[31m6.0 MB/s\u001b[0m eta \u001b[36m0:00:00\u001b[0m\n",
            "\u001b[?25hInstalling collected packages: sentence-transformers\n",
            "  Attempting uninstall: sentence-transformers\n",
            "    Found existing installation: sentence-transformers 3.2.1\n",
            "    Uninstalling sentence-transformers-3.2.1:\n",
            "      Successfully uninstalled sentence-transformers-3.2.1\n",
            "Successfully installed sentence-transformers-3.3.0\n"
          ]
        }
      ],
      "source": [
        "!pip install -U sentence-transformers"
      ]
    },
    {
      "cell_type": "code",
      "source": [
        "from sentence_transformers import SentenceTransformer, util\n",
        "\n",
        "model = SentenceTransformer('all-MiniLM-L6-v2')\n",
        "\n",
        "#Lista de frases\n",
        "sentences = [\n",
        "    'el carro tiene un motor muy bueno',\n",
        "    'el gato juega afuera',\n",
        "    'me gusta tocar guitarra',\n",
        "    'me encanta la pasta',\n",
        "    'esta pelicula estuvo asombrosa',\n",
        "    'el perro esta afuera',\n",
        "    'te gusta la musica?',\n",
        "    'estuvo muy buena la pelicula',\n",
        "    'te gustaria una pizza?',\n",
        "    'tengo que lavar el carro?'\n",
        "]\n",
        "\n",
        "#Cómputo de embeddings\n",
        "embeddings = model.encode(sentences)\n"
      ],
      "metadata": {
        "id": "H_dzJ4rvZ9Ip"
      },
      "execution_count": 5,
      "outputs": []
    },
    {
      "cell_type": "code",
      "source": [
        "embeddings"
      ],
      "metadata": {
        "colab": {
          "base_uri": "https://localhost:8080/"
        },
        "id": "89Pm_jHHbJ4S",
        "outputId": "c443c9b1-25c5-4448-9ad0-c068babf3650"
      },
      "execution_count": 6,
      "outputs": [
        {
          "output_type": "execute_result",
          "data": {
            "text/plain": [
              "array([[-0.01708507,  0.03082036,  0.02674614, ...,  0.04857921,\n",
              "         0.03063938, -0.05080312],\n",
              "       [-0.03232964,  0.1177517 , -0.04929117, ..., -0.00081667,\n",
              "        -0.03978718, -0.02792931],\n",
              "       [-0.03385792,  0.00732811, -0.04184825, ...,  0.04272256,\n",
              "        -0.02279519, -0.06084862],\n",
              "       ...,\n",
              "       [ 0.02290085,  0.00147281,  0.0013893 , ...,  0.08682209,\n",
              "         0.08835243, -0.13047364],\n",
              "       [-0.06596523,  0.03551988, -0.04087368, ...,  0.09201567,\n",
              "         0.00076541, -0.08679893],\n",
              "       [ 0.04072951,  0.04984547,  0.02350844, ...,  0.06327125,\n",
              "         0.02879275, -0.09680593]], dtype=float32)"
            ]
          },
          "metadata": {},
          "execution_count": 6
        }
      ]
    },
    {
      "cell_type": "markdown",
      "source": [
        "# Comparar frases con modelo de embeddings"
      ],
      "metadata": {
        "id": "oYDJk-Msbbw1"
      }
    },
    {
      "cell_type": "code",
      "source": [
        "#Calculo de similitudes coseno para cada frase con todas las demás frases\n",
        "cosine_score = util.cos_sim(embeddings, embeddings)\n",
        "\n",
        "#Encuentra las parejas con los puntajes de similitud del coseno mas altos\n",
        "pairs = []\n",
        "for i in range(len(cosine_score)-1):\n",
        "  for j in range(i+1, len(cosine_score)):\n",
        "    pairs.append({'index': [i, j], 'score': cosine_score[i][j]})\n",
        "\n",
        "#Ordena los puntajes en orden descendente.\n",
        "pairs = sorted(pairs, key=lambda x: x['score'], reverse=True)\n",
        "\n",
        "for pair in pairs[0:10]:\n",
        "  i, j = pair['index']\n",
        "  print(\"{} ----> {}\".format(sentences[i], sentences[j]))"
      ],
      "metadata": {
        "colab": {
          "base_uri": "https://localhost:8080/"
        },
        "id": "gzhmzyU5bjUE",
        "outputId": "67a32b2c-9ea9-4f2f-8726-494243c55357"
      },
      "execution_count": 8,
      "outputs": [
        {
          "output_type": "stream",
          "name": "stdout",
          "text": [
            "esta pelicula estuvo asombrosa ----> estuvo muy buena la pelicula\n",
            "te gusta la musica? ----> te gustaria una pizza?\n",
            "el gato juega afuera ----> el perro esta afuera\n",
            "me gusta tocar guitarra ----> te gusta la musica?\n",
            "me encanta la pasta ----> te gustaria una pizza?\n",
            "el carro tiene un motor muy bueno ----> tengo que lavar el carro?\n",
            "esta pelicula estuvo asombrosa ----> el perro esta afuera\n",
            "estuvo muy buena la pelicula ----> tengo que lavar el carro?\n",
            "el carro tiene un motor muy bueno ----> estuvo muy buena la pelicula\n",
            "me encanta la pasta ----> te gusta la musica?\n"
          ]
        }
      ]
    }
  ]
}